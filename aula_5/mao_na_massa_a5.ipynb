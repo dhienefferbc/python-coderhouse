{
 "cells": [
  {
   "cell_type": "code",
   "execution_count": 4,
   "metadata": {},
   "outputs": [],
   "source": [
    "class Retangulo:\n",
    "    def __init__(self, base, altura):\n",
    "        self.base = base\n",
    "        self.altura = altura\n",
    "    \n",
    "    def area(self):\n",
    "        return self.base * self.altura \n",
    "\n",
    "    def perimetro(self):\n",
    "        return 2 * (self.base + self.altura)\n",
    "        "
   ]
  },
  {
   "cell_type": "code",
   "execution_count": null,
   "metadata": {},
   "outputs": [],
   "source": [
    "retangulo1 = Retangulo(2, 3)\n",
    "print(f\"Área é {retangulo1.area}\")\n",
    "print(f\"Perímetro é {retangulo1.perimetro}\")"
   ]
  },
  {
   "cell_type": "code",
   "execution_count": null,
   "metadata": {},
   "outputs": [],
   "source": [
    "class Calculadora:\n",
    "    def soma(self, a, b):\n",
    "        return a + b\n",
    "    def subtrai(self, a, b)"
   ]
  },
  {
   "cell_type": "code",
   "execution_count": 3,
   "metadata": {},
   "outputs": [
    {
     "ename": "NameError",
     "evalue": "name 'Calculadora' is not defined",
     "output_type": "error",
     "traceback": [
      "\u001b[1;31m---------------------------------------------------------------------------\u001b[0m",
      "\u001b[1;31mNameError\u001b[0m                                 Traceback (most recent call last)",
      "Cell \u001b[1;32mIn[3], line 1\u001b[0m\n\u001b[1;32m----> 1\u001b[0m calculadora1 \u001b[38;5;241m=\u001b[39m \u001b[43mCalculadora\u001b[49m()\n\u001b[0;32m      2\u001b[0m soma \u001b[38;5;241m=\u001b[39m calculadora1\u001b[38;5;241m.\u001b[39msoma(\u001b[38;5;241m3\u001b[39m, \u001b[38;5;241m4\u001b[39m)\n\u001b[0;32m      3\u001b[0m \u001b[38;5;28mprint\u001b[39m(soma)\n",
      "\u001b[1;31mNameError\u001b[0m: name 'Calculadora' is not defined"
     ]
    }
   ],
   "source": [
    "calculadora1 = Calculadora()\n",
    "soma = calculadora1.soma(3, 4)\n",
    "print(soma)"
   ]
  },
  {
   "cell_type": "code",
   "execution_count": 6,
   "metadata": {},
   "outputs": [],
   "source": [
    "class Conta:\n",
    "    def __init__ (self, titular, saldo=0):\n",
    "        self.titular = titular\n",
    "        self.saldo = saldo\n",
    "\n",
    "    def depositar(self, valor):\n",
    "        self.saldo += valor\n",
    "        print(f\"O saldo em conta é {self.saldo}\")\n",
    "\n",
    "    def sacar(self, valor):\n",
    "        if self.saldo >= valor:\n",
    "            self.saldo -= valor\n",
    "            print(f\"O novo saldo é {self.saldo}\")\n",
    "\n",
    "        else:\n",
    "            print(f\"Saldo insuficiente\")"
   ]
  },
  {
   "cell_type": "code",
   "execution_count": 7,
   "metadata": {},
   "outputs": [
    {
     "name": "stdout",
     "output_type": "stream",
     "text": [
      "O saldo em conta é 10001\n",
      "O novo saldo é 0\n",
      "Saldo insuficiente\n"
     ]
    }
   ],
   "source": [
    "conta001 = Conta(\"Dhieneffer Centeno\", 10000)\n",
    "\n",
    "conta001.depositar(1)\n",
    "conta001.sacar(10001)\n",
    "conta001.sacar(10000)"
   ]
  }
 ],
 "metadata": {
  "kernelspec": {
   "display_name": "Python 3",
   "language": "python",
   "name": "python3"
  },
  "language_info": {
   "codemirror_mode": {
    "name": "ipython",
    "version": 3
   },
   "file_extension": ".py",
   "mimetype": "text/x-python",
   "name": "python",
   "nbconvert_exporter": "python",
   "pygments_lexer": "ipython3",
   "version": "3.12.1"
  }
 },
 "nbformat": 4,
 "nbformat_minor": 2
}
