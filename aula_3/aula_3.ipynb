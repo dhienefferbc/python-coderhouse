{
 "cells": [
  {
   "cell_type": "markdown",
   "metadata": {},
   "source": [
    "Mão na Massa - Aula 3"
   ]
  },
  {
   "cell_type": "markdown",
   "metadata": {},
   "source": [
    "1. Escreva um programa que receba um número inteiro e exiba se ele é par ou ímpar."
   ]
  },
  {
   "cell_type": "markdown",
   "metadata": {},
   "source": [
    "2. Escreva um programa em Python que solicita ao usuário uma frase e, em seguida, exibe cada palavra e seu número de caracteres."
   ]
  },
  {
   "cell_type": "markdown",
   "metadata": {},
   "source": [
    "3. Crie um programa em Python que solicita ao usuário uma senha numérica de 4 dígitos. O programa deve repetir essa solicitação até que o usuário informe a senha correta (1234)."
   ]
  },
  {
   "cell_type": "markdown",
   "metadata": {},
   "source": [
    "4. Escreva um programa que dado um valor n calcula o fatorial de n."
   ]
  },
  {
   "cell_type": "markdown",
   "metadata": {},
   "source": [
    "5. Crie um dicionário com os dados da tabela ao lado, crie um loop\n",
    "para exibir os valores.  \n",
    "Jan - 232; Fev - 321; Jun - 589; Jul - 547;"
   ]
  }
 ],
 "metadata": {
  "language_info": {
   "name": "python"
  }
 },
 "nbformat": 4,
 "nbformat_minor": 2
}
