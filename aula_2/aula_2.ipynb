{
 "cells": [
  {
   "cell_type": "markdown",
   "metadata": {},
   "source": [
    "Mão na Massa - Aula 2"
   ]
  },
  {
   "cell_type": "markdown",
   "metadata": {},
   "source": [
    "1. Crie uma variável chamada saldo e atribua o valor de 950,60. Em seguida, pergunte ao usuário quanto dinheiro ele deseja sacar e armazene a resposta em uma variável chamada saque. Subtraia o valor de saque do valor de saldo e imprima a mensagem \"Seu novo saldo é {saldo}.\""
   ]
  },
  {
   "cell_type": "markdown",
   "metadata": {},
   "source": [
    "2. Faça um programa que crie uma lista com 5 frutas e permita que o usuário digite o nome de uma fruta. Se for uma fruta repetida deverá ser desconsiderada. "
   ]
  },
  {
   "cell_type": "markdown",
   "metadata": {},
   "source": [
    "3.Faça um programa que peça ao usuário para digitar uma frase e substitua todas as vogais por asteriscos (*)."
   ]
  }
 ],
 "metadata": {
  "language_info": {
   "name": "python"
  }
 },
 "nbformat": 4,
 "nbformat_minor": 2
}
